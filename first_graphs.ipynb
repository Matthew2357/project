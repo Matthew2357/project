{
 "cells": [
  {
   "cell_type": "code",
   "execution_count": 2,
   "metadata": {},
   "outputs": [
    {
     "name": "stdout",
     "output_type": "stream",
     "text": [
      "Defaulting to user installation because normal site-packages is not writeable\n",
      "Collecting pandas\n",
      "  Downloading pandas-2.2.3-cp310-cp310-manylinux_2_17_x86_64.manylinux2014_x86_64.whl (13.1 MB)\n",
      "\u001b[2K     \u001b[90m━━━━━━━━━━━━━━━━━━━━━━━━━━━━━━━━━━━━━━━━\u001b[0m \u001b[32m13.1/13.1 MB\u001b[0m \u001b[31m40.2 MB/s\u001b[0m eta \u001b[36m0:00:00\u001b[0m00:01\u001b[0m00:01\u001b[0m\n",
      "\u001b[?25hCollecting pytz>=2020.1\n",
      "  Downloading pytz-2024.2-py2.py3-none-any.whl (508 kB)\n",
      "\u001b[2K     \u001b[90m━━━━━━━━━━━━━━━━━━━━━━━━━━━━━━━━━━━━━\u001b[0m \u001b[32m508.0/508.0 KB\u001b[0m \u001b[31m103.5 MB/s\u001b[0m eta \u001b[36m0:00:00\u001b[0m\n",
      "\u001b[?25hCollecting tzdata>=2022.7\n",
      "  Downloading tzdata-2024.2-py2.py3-none-any.whl (346 kB)\n",
      "\u001b[2K     \u001b[90m━━━━━━━━━━━━━━━━━━━━━━━━━━━━━━━━━━━━━━\u001b[0m \u001b[32m346.6/346.6 KB\u001b[0m \u001b[31m88.6 MB/s\u001b[0m eta \u001b[36m0:00:00\u001b[0m\n",
      "\u001b[?25hCollecting numpy>=1.22.4\n",
      "  Downloading numpy-2.1.2-cp310-cp310-manylinux_2_17_x86_64.manylinux2014_x86_64.whl (16.3 MB)\n",
      "\u001b[2K     \u001b[90m━━━━━━━━━━━━━━━━━━━━━━━━━━━━━━━━━━━━━━━━\u001b[0m \u001b[32m16.3/16.3 MB\u001b[0m \u001b[31m80.1 MB/s\u001b[0m eta \u001b[36m0:00:00\u001b[0m00:01\u001b[0m00:01\u001b[0m\n",
      "\u001b[?25hRequirement already satisfied: python-dateutil>=2.8.2 in /home/mmeyer/.local/lib/python3.10/site-packages (from pandas) (2.9.0.post0)\n",
      "Requirement already satisfied: six>=1.5 in /home/mmeyer/.local/lib/python3.10/site-packages (from python-dateutil>=2.8.2->pandas) (1.16.0)\n",
      "Installing collected packages: pytz, tzdata, numpy, pandas\n",
      "Successfully installed numpy-2.1.2 pandas-2.2.3 pytz-2024.2 tzdata-2024.2\n"
     ]
    }
   ],
   "source": [
    "!pip3 install pandas"
   ]
  },
  {
   "cell_type": "code",
   "execution_count": 3,
   "metadata": {},
   "outputs": [],
   "source": [
    "import pandas as pd"
   ]
  },
  {
   "cell_type": "code",
   "execution_count": 4,
   "metadata": {},
   "outputs": [],
   "source": [
    "\n",
    "data = [\n",
    "    [0.14, 0.14, 0.489, 0.489, 0.5398, 0.5398, 0.631, 0.631, 0.856, 0.856, 0.99, 0.99],\n",
    "    [69.89, 69.27, 72.11, 72.77, 62.95, 62.77, 62.31, 61.68, 59.70, 57.96, 56.16, 55.22],\n",
    "    [47.20, 46.98, 44.24, 44.98, 44.05, 44.37, 43.52, 43.19, 43.69, 42.78, 43.69, 42.47],\n",
    "    [46.84, 46.53, 47.52, 48.96, 45.52, 45.03, 44.87, 45.13, 44.94, 43.78, 44.43, 43.04],\n",
    "    [46.95, 49.12, 49.37, 51.14, 45.24, 45.37, 44.81, 45.07, 44.80, 44.02, 44.15, 42.94],\n",
    "    [49.49, None,49.48,None,47.61,None,47.03,None,47.42,None,46.88,None]\n",
    "]\n",
    "columns = ['entropy','ffa', 'flexlora', 'fedavg', 'hetlora lambda=0.01', 'hetlora lambda = 0.1']\n",
    "df = pd.DataFrame({col:data[i] for i, col in enumerate(columns)})"
   ]
  },
  {
   "cell_type": "code",
   "execution_count": 5,
   "metadata": {},
   "outputs": [
    {
     "data": {
      "text/html": [
       "<div>\n",
       "<style scoped>\n",
       "    .dataframe tbody tr th:only-of-type {\n",
       "        vertical-align: middle;\n",
       "    }\n",
       "\n",
       "    .dataframe tbody tr th {\n",
       "        vertical-align: top;\n",
       "    }\n",
       "\n",
       "    .dataframe thead th {\n",
       "        text-align: right;\n",
       "    }\n",
       "</style>\n",
       "<table border=\"1\" class=\"dataframe\">\n",
       "  <thead>\n",
       "    <tr style=\"text-align: right;\">\n",
       "      <th></th>\n",
       "      <th>entropy</th>\n",
       "      <th>ffa</th>\n",
       "      <th>flexlora</th>\n",
       "      <th>fedavg</th>\n",
       "      <th>hetlora lambda=0.01</th>\n",
       "      <th>hetlora lambda = 0.1</th>\n",
       "    </tr>\n",
       "  </thead>\n",
       "  <tbody>\n",
       "    <tr>\n",
       "      <th>0</th>\n",
       "      <td>0.1400</td>\n",
       "      <td>69.89</td>\n",
       "      <td>47.20</td>\n",
       "      <td>46.84</td>\n",
       "      <td>46.95</td>\n",
       "      <td>49.49</td>\n",
       "    </tr>\n",
       "    <tr>\n",
       "      <th>1</th>\n",
       "      <td>0.1400</td>\n",
       "      <td>69.27</td>\n",
       "      <td>46.98</td>\n",
       "      <td>46.53</td>\n",
       "      <td>49.12</td>\n",
       "      <td>NaN</td>\n",
       "    </tr>\n",
       "    <tr>\n",
       "      <th>2</th>\n",
       "      <td>0.4890</td>\n",
       "      <td>72.11</td>\n",
       "      <td>44.24</td>\n",
       "      <td>47.52</td>\n",
       "      <td>49.37</td>\n",
       "      <td>49.48</td>\n",
       "    </tr>\n",
       "    <tr>\n",
       "      <th>3</th>\n",
       "      <td>0.4890</td>\n",
       "      <td>72.77</td>\n",
       "      <td>44.98</td>\n",
       "      <td>48.96</td>\n",
       "      <td>51.14</td>\n",
       "      <td>NaN</td>\n",
       "    </tr>\n",
       "    <tr>\n",
       "      <th>4</th>\n",
       "      <td>0.5398</td>\n",
       "      <td>62.95</td>\n",
       "      <td>44.05</td>\n",
       "      <td>45.52</td>\n",
       "      <td>45.24</td>\n",
       "      <td>47.61</td>\n",
       "    </tr>\n",
       "    <tr>\n",
       "      <th>5</th>\n",
       "      <td>0.5398</td>\n",
       "      <td>62.77</td>\n",
       "      <td>44.37</td>\n",
       "      <td>45.03</td>\n",
       "      <td>45.37</td>\n",
       "      <td>NaN</td>\n",
       "    </tr>\n",
       "    <tr>\n",
       "      <th>6</th>\n",
       "      <td>0.6310</td>\n",
       "      <td>62.31</td>\n",
       "      <td>43.52</td>\n",
       "      <td>44.87</td>\n",
       "      <td>44.81</td>\n",
       "      <td>47.03</td>\n",
       "    </tr>\n",
       "    <tr>\n",
       "      <th>7</th>\n",
       "      <td>0.6310</td>\n",
       "      <td>61.68</td>\n",
       "      <td>43.19</td>\n",
       "      <td>45.13</td>\n",
       "      <td>45.07</td>\n",
       "      <td>NaN</td>\n",
       "    </tr>\n",
       "    <tr>\n",
       "      <th>8</th>\n",
       "      <td>0.8560</td>\n",
       "      <td>59.70</td>\n",
       "      <td>43.69</td>\n",
       "      <td>44.94</td>\n",
       "      <td>44.80</td>\n",
       "      <td>47.42</td>\n",
       "    </tr>\n",
       "    <tr>\n",
       "      <th>9</th>\n",
       "      <td>0.8560</td>\n",
       "      <td>57.96</td>\n",
       "      <td>42.78</td>\n",
       "      <td>43.78</td>\n",
       "      <td>44.02</td>\n",
       "      <td>NaN</td>\n",
       "    </tr>\n",
       "    <tr>\n",
       "      <th>10</th>\n",
       "      <td>0.9900</td>\n",
       "      <td>56.16</td>\n",
       "      <td>43.69</td>\n",
       "      <td>44.43</td>\n",
       "      <td>44.15</td>\n",
       "      <td>46.88</td>\n",
       "    </tr>\n",
       "    <tr>\n",
       "      <th>11</th>\n",
       "      <td>0.9900</td>\n",
       "      <td>55.22</td>\n",
       "      <td>42.47</td>\n",
       "      <td>43.04</td>\n",
       "      <td>42.94</td>\n",
       "      <td>NaN</td>\n",
       "    </tr>\n",
       "  </tbody>\n",
       "</table>\n",
       "</div>"
      ],
      "text/plain": [
       "    entropy    ffa  flexlora  fedavg  hetlora lambda=0.01  \\\n",
       "0    0.1400  69.89     47.20   46.84                46.95   \n",
       "1    0.1400  69.27     46.98   46.53                49.12   \n",
       "2    0.4890  72.11     44.24   47.52                49.37   \n",
       "3    0.4890  72.77     44.98   48.96                51.14   \n",
       "4    0.5398  62.95     44.05   45.52                45.24   \n",
       "5    0.5398  62.77     44.37   45.03                45.37   \n",
       "6    0.6310  62.31     43.52   44.87                44.81   \n",
       "7    0.6310  61.68     43.19   45.13                45.07   \n",
       "8    0.8560  59.70     43.69   44.94                44.80   \n",
       "9    0.8560  57.96     42.78   43.78                44.02   \n",
       "10   0.9900  56.16     43.69   44.43                44.15   \n",
       "11   0.9900  55.22     42.47   43.04                42.94   \n",
       "\n",
       "    hetlora lambda = 0.1  \n",
       "0                  49.49  \n",
       "1                    NaN  \n",
       "2                  49.48  \n",
       "3                    NaN  \n",
       "4                  47.61  \n",
       "5                    NaN  \n",
       "6                  47.03  \n",
       "7                    NaN  \n",
       "8                  47.42  \n",
       "9                    NaN  \n",
       "10                 46.88  \n",
       "11                   NaN  "
      ]
     },
     "execution_count": 5,
     "metadata": {},
     "output_type": "execute_result"
    }
   ],
   "source": [
    "df"
   ]
  },
  {
   "cell_type": "code",
   "execution_count": 6,
   "metadata": {},
   "outputs": [
    {
     "name": "stdout",
     "output_type": "stream",
     "text": [
      "Defaulting to user installation because normal site-packages is not writeable\n"
     ]
    },
    {
     "name": "stdout",
     "output_type": "stream",
     "text": [
      "Collecting matplotlib\n",
      "  Downloading matplotlib-3.9.2-cp310-cp310-manylinux_2_17_x86_64.manylinux2014_x86_64.whl (8.3 MB)\n",
      "\u001b[2K     \u001b[90m━━━━━━━━━━━━━━━━━━━━━━━━━━━━━━━━━━━━━━━━\u001b[0m \u001b[32m8.3/8.3 MB\u001b[0m \u001b[31m23.7 MB/s\u001b[0m eta \u001b[36m0:00:00\u001b[0m00:01\u001b[0m00:01\u001b[0m\n",
      "\u001b[?25hRequirement already satisfied: packaging>=20.0 in /home/mmeyer/.local/lib/python3.10/site-packages (from matplotlib) (24.1)\n",
      "Requirement already satisfied: python-dateutil>=2.7 in /home/mmeyer/.local/lib/python3.10/site-packages (from matplotlib) (2.9.0.post0)\n",
      "Collecting pillow>=8\n",
      "  Downloading pillow-11.0.0-cp310-cp310-manylinux_2_28_x86_64.whl (4.4 MB)\n",
      "\u001b[2K     \u001b[90m━━━━━━━━━━━━━━━━━━━━━━━━━━━━━━━━━━━━━━━━\u001b[0m \u001b[32m4.4/4.4 MB\u001b[0m \u001b[31m36.6 MB/s\u001b[0m eta \u001b[36m0:00:00\u001b[0m00:01\u001b[0m00:01\u001b[0m\n",
      "\u001b[?25hCollecting pyparsing>=2.3.1\n",
      "  Downloading pyparsing-3.2.0-py3-none-any.whl (106 kB)\n",
      "\u001b[2K     \u001b[90m━━━━━━━━━━━━━━━━━━━━━━━━━━━━━━━━━━━━━━\u001b[0m \u001b[32m106.9/106.9 KB\u001b[0m \u001b[31m46.3 MB/s\u001b[0m eta \u001b[36m0:00:00\u001b[0m\n",
      "\u001b[?25hCollecting kiwisolver>=1.3.1\n",
      "  Downloading kiwisolver-1.4.7-cp310-cp310-manylinux_2_12_x86_64.manylinux2010_x86_64.whl (1.6 MB)\n",
      "\u001b[2K     \u001b[90m━━━━━━━━━━━━━━━━━━━━━━━━━━━━━━━━━━━━━━━━\u001b[0m \u001b[32m1.6/1.6 MB\u001b[0m \u001b[31m36.3 MB/s\u001b[0m eta \u001b[36m0:00:00\u001b[0ma \u001b[36m0:00:01\u001b[0m\n",
      "\u001b[?25hCollecting fonttools>=4.22.0\n",
      "  Downloading fonttools-4.54.1-cp310-cp310-manylinux_2_17_x86_64.manylinux2014_x86_64.whl (4.6 MB)\n",
      "\u001b[2K     \u001b[90m━━━━━━━━━━━━━━━━━━━━━━━━━━━━━━━━━━━━━━━━\u001b[0m \u001b[32m4.6/4.6 MB\u001b[0m \u001b[31m38.4 MB/s\u001b[0m eta \u001b[36m0:00:00\u001b[0m00:01\u001b[0m00:01\u001b[0m\n",
      "\u001b[?25hCollecting cycler>=0.10\n",
      "  Downloading cycler-0.12.1-py3-none-any.whl (8.3 kB)\n",
      "Collecting contourpy>=1.0.1\n",
      "  Downloading contourpy-1.3.0-cp310-cp310-manylinux_2_17_x86_64.manylinux2014_x86_64.whl (322 kB)\n",
      "\u001b[2K     \u001b[90m━━━━━━━━━━━━━━━━━━━━━━━━━━━━━━━━━━━━━━\u001b[0m \u001b[32m322.0/322.0 KB\u001b[0m \u001b[31m53.1 MB/s\u001b[0m eta \u001b[36m0:00:00\u001b[0m\n",
      "\u001b[?25hRequirement already satisfied: numpy>=1.23 in /home/mmeyer/.local/lib/python3.10/site-packages (from matplotlib) (2.1.2)\n",
      "Requirement already satisfied: six>=1.5 in /home/mmeyer/.local/lib/python3.10/site-packages (from python-dateutil>=2.7->matplotlib) (1.16.0)\n",
      "Installing collected packages: pyparsing, pillow, kiwisolver, fonttools, cycler, contourpy, matplotlib\n",
      "Successfully installed contourpy-1.3.0 cycler-0.12.1 fonttools-4.54.1 kiwisolver-1.4.7 matplotlib-3.9.2 pillow-11.0.0 pyparsing-3.2.0\n"
     ]
    }
   ],
   "source": [
    "!pip3 install matplotlib\n",
    "import matplotlib.pyplot as plt"
   ]
  },
  {
   "cell_type": "code",
   "execution_count": 9,
   "metadata": {},
   "outputs": [],
   "source": []
  },
  {
   "cell_type": "code",
   "execution_count": 7,
   "metadata": {},
   "outputs": [
    {
     "data": {
      "image/png": "[encoded data removed]",
      "text/plain": [
       "<Figure size 640x480 with 1 Axes>"
      ]
     },
     "metadata": {},
     "output_type": "display_data"
    }
   ],
   "source": [
    "x = df['entropy']\n",
    "y = df.drop(columns=['entropy'])\n",
    "for column in y:\n",
    "    plt.plot(x,y[column], label=column, marker='x', linestyle='')\n",
    "# Add labels and title\n",
    "plt.xlabel('entropy')\n",
    "plt.ylabel('perplexity')\n",
    "plt.title('first graph')\n",
    "\n",
    "# Display legend\n",
    "plt.legend()\n",
    "\n",
    "# Show plot\n",
    "plt.show()"
   ]
  },
  {
   "cell_type": "code",
   "execution_count": 8,
   "metadata": {},
   "outputs": [
    {
     "data": {
      "image/png": "[encoded data removed]",
      "text/plain": [
       "<Figure size 640x480 with 1 Axes>"
      ]
     },
     "metadata": {},
     "output_type": "display_data"
    }
   ],
   "source": [
    "x = df['entropy']\n",
    "y = df.drop(columns=['entropy','ffa'])\n",
    "for column in y:\n",
    "    plt.plot(x,y[column], label=column, marker='x', linestyle='')\n",
    "# Add labels and title\n",
    "plt.xlabel('entropy')\n",
    "plt.ylabel('perplexity')\n",
    "plt.title('first graph')\n",
    "\n",
    "# Display legend\n",
    "plt.legend()\n",
    "\n",
    "# Show plot\n",
    "plt.show()"
   ]
  },
  {
   "cell_type": "code",
   "execution_count": 9,
   "metadata": {},
   "outputs": [],
   "source": [
    "\n",
    "data = [\n",
    "    [0.00003, 0.0001, 0.0003, 0.001, 0.003],\n",
    "    [29.30, 28.04, 27.91, 28.82, 31.52],\n",
    "    [33.11, None, 28.07, 27.58, 29.16],\n",
    "    [29.32, 29.02, 29.93, 33.52, 43.08],\n",
    "    [29.37, 28.21, 27.84, 28.93, 32.36],\n",
    "    [29.36, 28.12, 27.90, 28.87, 30.22],\n",
    "    [29.36, 28.17, 27.91, 29.08, 30.62],\n",
    "    [29.29, 28.10, 27.93, 28.80, 33.56]\n",
    "]\n",
    "columns = ['lr','fedavg', 'flexlora', 'ffa', 'hetlora 0.001', 'hetlora 0.01', 'hetlora 0.1', 'no collabortion']\n",
    "df_hyp = pd.DataFrame({col:data[i] for i, col in enumerate(columns)})"
   ]
  },
  {
   "cell_type": "code",
   "execution_count": 10,
   "metadata": {},
   "outputs": [
    {
     "data": {
      "text/html": [
       "<div>\n",
       "<style scoped>\n",
       "    .dataframe tbody tr th:only-of-type {\n",
       "        vertical-align: middle;\n",
       "    }\n",
       "\n",
       "    .dataframe tbody tr th {\n",
       "        vertical-align: top;\n",
       "    }\n",
       "\n",
       "    .dataframe thead th {\n",
       "        text-align: right;\n",
       "    }\n",
       "</style>\n",
       "<table border=\"1\" class=\"dataframe\">\n",
       "  <thead>\n",
       "    <tr style=\"text-align: right;\">\n",
       "      <th></th>\n",
       "      <th>lr</th>\n",
       "      <th>fedavg</th>\n",
       "      <th>flexlora</th>\n",
       "      <th>ffa</th>\n",
       "      <th>hetlora 0.001</th>\n",
       "      <th>hetlora 0.01</th>\n",
       "      <th>hetlora 0.1</th>\n",
       "      <th>no collabortion</th>\n",
       "    </tr>\n",
       "  </thead>\n",
       "  <tbody>\n",
       "    <tr>\n",
       "      <th>0</th>\n",
       "      <td>0.00003</td>\n",
       "      <td>29.30</td>\n",
       "      <td>33.11</td>\n",
       "      <td>29.32</td>\n",
       "      <td>29.37</td>\n",
       "      <td>29.36</td>\n",
       "      <td>29.36</td>\n",
       "      <td>29.29</td>\n",
       "    </tr>\n",
       "    <tr>\n",
       "      <th>1</th>\n",
       "      <td>0.00010</td>\n",
       "      <td>28.04</td>\n",
       "      <td>NaN</td>\n",
       "      <td>29.02</td>\n",
       "      <td>28.21</td>\n",
       "      <td>28.12</td>\n",
       "      <td>28.17</td>\n",
       "      <td>28.10</td>\n",
       "    </tr>\n",
       "    <tr>\n",
       "      <th>2</th>\n",
       "      <td>0.00030</td>\n",
       "      <td>27.91</td>\n",
       "      <td>28.07</td>\n",
       "      <td>29.93</td>\n",
       "      <td>27.84</td>\n",
       "      <td>27.90</td>\n",
       "      <td>27.91</td>\n",
       "      <td>27.93</td>\n",
       "    </tr>\n",
       "    <tr>\n",
       "      <th>3</th>\n",
       "      <td>0.00100</td>\n",
       "      <td>28.82</td>\n",
       "      <td>27.58</td>\n",
       "      <td>33.52</td>\n",
       "      <td>28.93</td>\n",
       "      <td>28.87</td>\n",
       "      <td>29.08</td>\n",
       "      <td>28.80</td>\n",
       "    </tr>\n",
       "    <tr>\n",
       "      <th>4</th>\n",
       "      <td>0.00300</td>\n",
       "      <td>31.52</td>\n",
       "      <td>29.16</td>\n",
       "      <td>43.08</td>\n",
       "      <td>32.36</td>\n",
       "      <td>30.22</td>\n",
       "      <td>30.62</td>\n",
       "      <td>33.56</td>\n",
       "    </tr>\n",
       "  </tbody>\n",
       "</table>\n",
       "</div>"
      ],
      "text/plain": [
       "        lr  fedavg  flexlora    ffa  hetlora 0.001  hetlora 0.01  hetlora 0.1  \\\n",
       "0  0.00003   29.30     33.11  29.32          29.37         29.36        29.36   \n",
       "1  0.00010   28.04       NaN  29.02          28.21         28.12        28.17   \n",
       "2  0.00030   27.91     28.07  29.93          27.84         27.90        27.91   \n",
       "3  0.00100   28.82     27.58  33.52          28.93         28.87        29.08   \n",
       "4  0.00300   31.52     29.16  43.08          32.36         30.22        30.62   \n",
       "\n",
       "   no collabortion  \n",
       "0            29.29  \n",
       "1            28.10  \n",
       "2            27.93  \n",
       "3            28.80  \n",
       "4            33.56  "
      ]
     },
     "execution_count": 10,
     "metadata": {},
     "output_type": "execute_result"
    }
   ],
   "source": [
    "df_hyp"
   ]
  },
  {
   "cell_type": "code",
   "execution_count": 11,
   "metadata": {},
   "outputs": [
    {
     "data": {
      "image/png": "[encoded data removed]",
      "text/plain": [
       "<Figure size 640x480 with 1 Axes>"
      ]
     },
     "metadata": {},
     "output_type": "display_data"
    }
   ],
   "source": [
    "x = df_hyp['lr']\n",
    "#y = df_hyp.drop(columns=['lr'])\n",
    "y = df_hyp[['flexlora']]\n",
    "for column in y:\n",
    "    plt.plot(x,y[column], label=column, marker='x', linestyle='')\n",
    "# Add labels and title\n",
    "plt.xlabel('lr')\n",
    "plt.ylabel('perplexity')\n",
    "plt.title('hyperparameter testing')\n",
    "\n",
    "# Set x-axis to logarithmic scale\n",
    "plt.xscale('log')\n",
    "\n",
    "# Display legend\n",
    "plt.legend()\n",
    "\n",
    "# Show plot\n",
    "plt.show()"
   ]
  },
  {
   "cell_type": "code",
   "execution_count": 12,
   "metadata": {},
   "outputs": [],
   "source": [
    "\n",
    "data = [\n",
    "    [0.1, 0.3, 1, 3, 10],\n",
    "    [24.13, 25.32, 27.95, 31.90, 37.11],\n",
    "    [25.53, 27.44, 29.03, 33.58, 39.33],\n",
    "    [23.93, 24.87, 27.58, 31.31, 36.44],\n",
    "    [24.31, 25.59, 27.92, 32.02, 37.17],\n",
    "    [21.05, 25.32, 27.91, 31.78, 37.15]\n",
    "]\n",
    "columns = ['alpha','fedavg', 'ffa', 'flexlora', 'hetlora', 'no_collab']\n",
    "df_alpha = pd.DataFrame({col:data[i] for i, col in enumerate(columns)})"
   ]
  },
  {
   "cell_type": "code",
   "execution_count": 13,
   "metadata": {},
   "outputs": [
    {
     "data": {
      "text/html": [
       "<div>\n",
       "<style scoped>\n",
       "    .dataframe tbody tr th:only-of-type {\n",
       "        vertical-align: middle;\n",
       "    }\n",
       "\n",
       "    .dataframe tbody tr th {\n",
       "        vertical-align: top;\n",
       "    }\n",
       "\n",
       "    .dataframe thead th {\n",
       "        text-align: right;\n",
       "    }\n",
       "</style>\n",
       "<table border=\"1\" class=\"dataframe\">\n",
       "  <thead>\n",
       "    <tr style=\"text-align: right;\">\n",
       "      <th></th>\n",
       "      <th>alpha</th>\n",
       "      <th>fedavg</th>\n",
       "      <th>ffa</th>\n",
       "      <th>flexlora</th>\n",
       "      <th>hetlora</th>\n",
       "      <th>no_collab</th>\n",
       "    </tr>\n",
       "  </thead>\n",
       "  <tbody>\n",
       "    <tr>\n",
       "      <th>0</th>\n",
       "      <td>0.1</td>\n",
       "      <td>24.13</td>\n",
       "      <td>25.53</td>\n",
       "      <td>23.93</td>\n",
       "      <td>24.31</td>\n",
       "      <td>21.05</td>\n",
       "    </tr>\n",
       "    <tr>\n",
       "      <th>1</th>\n",
       "      <td>0.3</td>\n",
       "      <td>25.32</td>\n",
       "      <td>27.44</td>\n",
       "      <td>24.87</td>\n",
       "      <td>25.59</td>\n",
       "      <td>25.32</td>\n",
       "    </tr>\n",
       "    <tr>\n",
       "      <th>2</th>\n",
       "      <td>1.0</td>\n",
       "      <td>27.95</td>\n",
       "      <td>29.03</td>\n",
       "      <td>27.58</td>\n",
       "      <td>27.92</td>\n",
       "      <td>27.91</td>\n",
       "    </tr>\n",
       "    <tr>\n",
       "      <th>3</th>\n",
       "      <td>3.0</td>\n",
       "      <td>31.90</td>\n",
       "      <td>33.58</td>\n",
       "      <td>31.31</td>\n",
       "      <td>32.02</td>\n",
       "      <td>31.78</td>\n",
       "    </tr>\n",
       "    <tr>\n",
       "      <th>4</th>\n",
       "      <td>10.0</td>\n",
       "      <td>37.11</td>\n",
       "      <td>39.33</td>\n",
       "      <td>36.44</td>\n",
       "      <td>37.17</td>\n",
       "      <td>37.15</td>\n",
       "    </tr>\n",
       "  </tbody>\n",
       "</table>\n",
       "</div>"
      ],
      "text/plain": [
       "   alpha  fedavg    ffa  flexlora  hetlora  no_collab\n",
       "0    0.1   24.13  25.53     23.93    24.31      21.05\n",
       "1    0.3   25.32  27.44     24.87    25.59      25.32\n",
       "2    1.0   27.95  29.03     27.58    27.92      27.91\n",
       "3    3.0   31.90  33.58     31.31    32.02      31.78\n",
       "4   10.0   37.11  39.33     36.44    37.17      37.15"
      ]
     },
     "execution_count": 13,
     "metadata": {},
     "output_type": "execute_result"
    }
   ],
   "source": [
    "df_alpha"
   ]
  },
  {
   "cell_type": "code",
   "execution_count": 16,
   "metadata": {},
   "outputs": [
    {
     "data": {
      "image/png": "[encoded data removed]",
      "text/plain": [
       "<Figure size 640x480 with 1 Axes>"
      ]
     },
     "metadata": {},
     "output_type": "display_data"
    }
   ],
   "source": [
    "x = df_alpha['alpha']\n",
    "y = df_alpha.drop(columns=['alpha'])\n",
    "for column in y:\n",
    "    plt.plot(x,y[column], label=column, marker='x', linestyle='')\n",
    "# Add labels and title\n",
    "plt.xlabel('alpha')\n",
    "plt.ylabel('perplexity')\n",
    "plt.title('Experiments with slim pajama, lora rank=16, 500 iterations, 4 clients')\n",
    "\n",
    "plt.xscale('log')\n",
    "# Display legend\n",
    "plt.legend()\n",
    "\n",
    "# Show plot\n",
    "plt.show()"
   ]
  },
  {
   "cell_type": "code",
   "execution_count": null,
   "metadata": {},
   "outputs": [],
   "source": []
  }
 ],
 "metadata": {
  "kernelspec": {
   "display_name": "Python 3",
   "language": "python",
   "name": "python3"
  },
  "language_info": {
   "codemirror_mode": {
    "name": "ipython",
    "version": 3
   },
   "file_extension": ".py",
   "mimetype": "text/x-python",
   "name": "python",
   "nbconvert_exporter": "python",
   "pygments_lexer": "ipython3",
   "version": "3.10.12"
  }
 },
 "nbformat": 4,
 "nbformat_minor": 2
}
